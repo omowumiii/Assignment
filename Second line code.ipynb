{
 "cells": [
  {
   "cell_type": "markdown",
   "id": "c4e11d07-16a4-4da4-96c9-be8ce85e1c12",
   "metadata": {},
   "source": [
    "# Second lines of code\n"
   ]
  },
  {
   "cell_type": "code",
   "execution_count": 1,
   "id": "1a234fdb-4cf5-4580-a23e-17f17976994e",
   "metadata": {},
   "outputs": [],
   "source": [
    "#import math it will  bring the mathematical function or aggregation\n",
    "import math\n"
   ]
  },
  {
   "cell_type": "code",
   "execution_count": 3,
   "id": "4b3d8102-7398-4363-8494-835b807ae495",
   "metadata": {},
   "outputs": [
    {
     "data": {
      "text/plain": [
       "0.9932517730102834"
      ]
     },
     "execution_count": 3,
     "metadata": {},
     "output_type": "execute_result"
    }
   ],
   "source": [
    "math.log(2.7)\n"
   ]
  },
  {
   "cell_type": "code",
   "execution_count": 4,
   "id": "a3de91a0-59ff-422b-b666-dab85e0322e5",
   "metadata": {},
   "outputs": [
    {
     "data": {
      "text/plain": [
       "2.718281828459045"
      ]
     },
     "execution_count": 4,
     "metadata": {},
     "output_type": "execute_result"
    }
   ],
   "source": [
    " math.exp(1)"
   ]
  },
  {
   "cell_type": "code",
   "execution_count": 7,
   "id": "2c965356-a00f-4de9-84f6-396281bc5ac9",
   "metadata": {},
   "outputs": [
    {
     "data": {
      "text/plain": [
       "False"
      ]
     },
     "execution_count": 7,
     "metadata": {},
     "output_type": "execute_result"
    }
   ],
   "source": [
    "#boolean values (true or false). they work in a logical way to test if a value or a condition is met or not\n",
    "2>3 and 5>3"
   ]
  },
  {
   "cell_type": "code",
   "execution_count": 11,
   "id": "da545c35-77d1-4442-a23a-1c955d2b3490",
   "metadata": {},
   "outputs": [
    {
     "data": {
      "text/plain": [
       "'my name is ajarah i am learning Data science at Webfala'"
      ]
     },
     "execution_count": 11,
     "metadata": {},
     "output_type": "execute_result"
    }
   ],
   "source": [
    "#concatenation\n",
    "name= 'ajarah'\n",
    "course='Data science'\n",
    "place='Webfala'\n",
    "\n",
    "'my name is'+' '+name +' '+ 'i am learning'+ ' '+ course+ ' '+ 'at'+ ' '+ place\n",
    "\n"
   ]
  },
  {
   "cell_type": "code",
   "execution_count": 9,
   "id": "0a058ec3-6fe8-4060-ba43-95acb263bcc1",
   "metadata": {},
   "outputs": [
    {
     "data": {
      "text/plain": [
       "'this is bad'"
      ]
     },
     "execution_count": 9,
     "metadata": {},
     "output_type": "execute_result"
    }
   ],
   "source": [
    "#Replacing a value in a string\n",
    "myvalue='this is good'\n",
    "myvalue.replace('good','bad')"
   ]
  },
  {
   "cell_type": "code",
   "execution_count": 10,
   "id": "a6197c9f-b7ea-415a-821f-6906d41c4397",
   "metadata": {},
   "outputs": [
    {
     "data": {
      "text/plain": [
       "2"
      ]
     },
     "execution_count": 10,
     "metadata": {},
     "output_type": "execute_result"
    }
   ],
   "source": [
    "#check the presence of a value in a list\n",
    "samplelist=[1,2,3,3,6,7,8,6,7,8]\n",
    "9 in samplelist\n",
    "\n",
    "samplelist.count(6)"
   ]
  },
  {
   "cell_type": "code",
   "execution_count": 12,
   "id": "d9fb269c-f6e4-4a44-9929-8c969cb92e0e",
   "metadata": {},
   "outputs": [
    {
     "data": {
      "text/plain": [
       "[1, 2, 3, 4, 5, 1, 3, 4, 5, 7, 4]"
      ]
     },
     "execution_count": 12,
     "metadata": {},
     "output_type": "execute_result"
    }
   ],
   "source": [
    "#Concatenate\n",
    "Ajaralist=[1,2,3,4,5]\n",
    "Tosin=[1,3,4,5,7,4]\n",
    "Ajaralist+ Tosin"
   ]
  },
  {
   "cell_type": "code",
   "execution_count": 16,
   "id": "47347b23-603b-4a47-acfc-e3c80422083c",
   "metadata": {},
   "outputs": [
    {
     "name": "stdout",
     "output_type": "stream",
     "text": [
      "{'name': 'Tosin', 'course': 'data Science', 'fav': 'SQL'}\n"
     ]
    }
   ],
   "source": [
    "import numpy as np\n",
    "#using a dictionary \n",
    "a_dictionary={'name':'Tosin',\n",
    "              'course':'data Science',\n",
    "              'fav':'SQL'}\n",
    "print(a_dictionary)\n",
    "\n"
   ]
  },
  {
   "cell_type": "code",
   "execution_count": 14,
   "id": "0e334078-bbe5-422f-9361-9993020f3b9d",
   "metadata": {},
   "outputs": [
    {
     "data": {
      "text/plain": [
       "'Tosin'"
      ]
     },
     "execution_count": 14,
     "metadata": {},
     "output_type": "execute_result"
    }
   ],
   "source": [
    "a_dictionary['name']"
   ]
  },
  {
   "cell_type": "code",
   "execution_count": 15,
   "id": "8ea87990-2610-4524-9dae-a4de35fed237",
   "metadata": {},
   "outputs": [
    {
     "name": "stdout",
     "output_type": "stream",
     "text": [
      "{'name': 'Tosin', 'course': 'data Science', 'fav': 'SQL', 'age': 25}\n"
     ]
    }
   ],
   "source": [
    "#adding a new a value to a dictionary\n",
    "a_dictionary['age']=25\n",
    "print (a_dictionary)"
   ]
  },
  {
   "cell_type": "code",
   "execution_count": 17,
   "id": "944596ed-17da-44fe-a7f5-a837173fed8c",
   "metadata": {},
   "outputs": [
    {
     "name": "stdout",
     "output_type": "stream",
     "text": [
      "[1, 2, 3, 4]\n"
     ]
    }
   ],
   "source": [
    "#duplicating a list\n",
    "list=[1,2,3,4,]\n",
    "list2=list.copy()\n",
    "print(list2)"
   ]
  },
  {
   "cell_type": "code",
   "execution_count": null,
   "id": "40eb39bb-561f-4e9d-8da8-04a1b64cfe7f",
   "metadata": {},
   "outputs": [],
   "source": []
  }
 ],
 "metadata": {
  "kernelspec": {
   "display_name": "Python 3 (ipykernel)",
   "language": "python",
   "name": "python3"
  },
  "language_info": {
   "codemirror_mode": {
    "name": "ipython",
    "version": 3
   },
   "file_extension": ".py",
   "mimetype": "text/x-python",
   "name": "python",
   "nbconvert_exporter": "python",
   "pygments_lexer": "ipython3",
   "version": "3.11.7"
  }
 },
 "nbformat": 4,
 "nbformat_minor": 5
}

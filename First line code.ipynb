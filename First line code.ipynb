{
 "cells": [
  {
   "cell_type": "markdown",
   "id": "61be21d9-946d-4daa-bf8a-fea533353f09",
   "metadata": {},
   "source": [
    "# write 10 line of code"
   ]
  },
  {
   "cell_type": "code",
   "execution_count": 1,
   "id": "b19a7452-9838-4266-8185-64f455162785",
   "metadata": {},
   "outputs": [
    {
     "name": "stdout",
     "output_type": "stream",
     "text": [
      "12\n"
     ]
    }
   ],
   "source": [
    "x='I love Mango'\n",
    "print(len(x))"
   ]
  },
  {
   "cell_type": "code",
   "execution_count": 2,
   "id": "c932281b-93fe-4ed2-9a16-ab1015cb19ce",
   "metadata": {},
   "outputs": [
    {
     "name": "stdout",
     "output_type": "stream",
     "text": [
      "1400\n"
     ]
    }
   ],
   "source": [
    "y=20\n",
    "x=30\n",
    "z=70\n",
    "print(y*z)"
   ]
  },
  {
   "cell_type": "code",
   "execution_count": 3,
   "id": "cee7b05b-091c-4a28-aa71-0205f232de5c",
   "metadata": {},
   "outputs": [
    {
     "name": "stdout",
     "output_type": "stream",
     "text": [
      "<class 'tuple'>\n"
     ]
    }
   ],
   "source": [
    "x=(1,2,3,4)\n",
    "print(type(x))"
   ]
  },
  {
   "cell_type": "code",
   "execution_count": 4,
   "id": "0b9bc709-115b-4c93-ad51-19f6c07a677b",
   "metadata": {},
   "outputs": [
    {
     "name": "stdout",
     "output_type": "stream",
     "text": [
      "['This', 'is', 'my', 'first', 'time', 'using', 'github']\n"
     ]
    }
   ],
   "source": [
    "z='This is my first time using github'\n",
    "print (z.split())"
   ]
  },
  {
   "cell_type": "code",
   "execution_count": 25,
   "id": "cb00b8da-2b60-4365-8be4-7df3d2bd01cd",
   "metadata": {},
   "outputs": [
    {
     "name": "stdout",
     "output_type": "stream",
     "text": [
      "('Hello', 'my', 'name', 'is', 'Ajarah', 'Ambali', 'Omowumi')\n",
      "('Ajarah', 'Ambali', 'Omowumi')\n"
     ]
    }
   ],
   "source": [
    "strilist=('Hello', 'my', 'name', 'is', 'Ajarah', 'Ambali', 'Omowumi')\n",
    "print(strilist)\n",
    "\n",
    "# get Ajarah,Ambali,Omowumi\n",
    "print(strilist[4:])"
   ]
  },
  {
   "cell_type": "code",
   "execution_count": 24,
   "id": "35d8e84f-5566-4d7f-936a-dcd27ce4aac9",
   "metadata": {},
   "outputs": [
    {
     "name": "stdout",
     "output_type": "stream",
     "text": [
      "(1, 2, 3, 4, 5, 6, 7, 8, 9, 7, 8)\n",
      "7\n"
     ]
    }
   ],
   "source": [
    "mylist=(1,2,3,4,5,6,7,8,9,7,8)\n",
    "print(mylist)\n",
    "print(mylist[-5])\n"
   ]
  },
  {
   "cell_type": "code",
   "execution_count": 19,
   "id": "cbe6067d-1786-488a-a9bd-ab8e523fd5b1",
   "metadata": {},
   "outputs": [
    {
     "name": "stdout",
     "output_type": "stream",
     "text": [
      "[2, 4, 4, 5, 7, 9, 12, 17, 22, 23, 34]\n"
     ]
    }
   ],
   "source": [
    "numberlist=[9,2,4,5,22,23,12,4,17,34,7]\n",
    "sorted=numberlist.sort()\n",
    "print(numberlist)"
   ]
  },
  {
   "cell_type": "code",
   "execution_count": 21,
   "id": "75eeb683-dd9d-49cd-b6b7-2470d88f8c21",
   "metadata": {
    "scrolled": true
   },
   "outputs": [
    {
     "name": "stdout",
     "output_type": "stream",
     "text": [
      "[34, 23, 22, 17, 12, 9, 7, 5, 4, 4, 2]\n"
     ]
    }
   ],
   "source": [
    "numberlist.sort(reverse=True)\n",
    "print(numberlist)"
   ]
  },
  {
   "cell_type": "code",
   "execution_count": 22,
   "id": "a66d46ce-51da-4dc4-b03d-71f4b5e9a32c",
   "metadata": {},
   "outputs": [
    {
     "name": "stdout",
     "output_type": "stream",
     "text": [
      "['Apple', 'Cherry', 'Banana']\n",
      "Banana\n"
     ]
    }
   ],
   "source": [
    "Thislist=['Apple', 'Cherry', 'Banana']\n",
    "print(Thislist)\n",
    "print(Thislist[-1])"
   ]
  },
  {
   "cell_type": "code",
   "execution_count": 23,
   "id": "8cfae8d5-dc69-445d-a01b-bcdaa6a860c8",
   "metadata": {},
   "outputs": [
    {
     "name": "stdout",
     "output_type": "stream",
     "text": [
      "['Cherry', 'Banana', 'Apple']\n"
     ]
    }
   ],
   "source": [
    "Thislist.sort(reverse=True)\n",
    "print(Thislist)"
   ]
  },
  {
   "cell_type": "code",
   "execution_count": null,
   "id": "171e1924-10df-4da4-a893-1db7a0680d48",
   "metadata": {},
   "outputs": [],
   "source": []
  }
 ],
 "metadata": {
  "kernelspec": {
   "display_name": "Python 3 (ipykernel)",
   "language": "python",
   "name": "python3"
  },
  "language_info": {
   "codemirror_mode": {
    "name": "ipython",
    "version": 3
   },
   "file_extension": ".py",
   "mimetype": "text/x-python",
   "name": "python",
   "nbconvert_exporter": "python",
   "pygments_lexer": "ipython3",
   "version": "3.11.7"
  }
 },
 "nbformat": 4,
 "nbformat_minor": 5
}
